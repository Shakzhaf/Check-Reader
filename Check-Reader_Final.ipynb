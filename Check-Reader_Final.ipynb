{
 "cells": [
  {
   "cell_type": "markdown",
   "metadata": {},
   "source": [
    "### Import all the important libraries that are to be used.\n",
    "**Note**: One of the images is a bank check of mine (Shakhaf). Kindly only use it only for evaluation! Thanks"
   ]
  },
  {
   "cell_type": "code",
   "execution_count": 1,
   "metadata": {},
   "outputs": [],
   "source": [
    "# Author: Shakhaf\n",
    "# Date: 28/01/2021\n",
    "import numpy as np\n",
    "import re\n",
    "import cv2\n",
    "import pytesseract\n",
    "import os \n",
    "\n",
    "import requests\n",
    "from difflib import SequenceMatcher\n",
    "from PIL import Image\n",
    "pytesseract.pytesseract.tesseract_cmd = 'C:\\\\Program Files\\\\Tesseract-OCR\\\\tesseract.exe'\n",
    "# image = cv2.imread(\"checkscan_250x250.jpg\")"
   ]
  },
  {
   "cell_type": "markdown",
   "metadata": {},
   "source": [
    "### This converts the original image into image of 540 height and 1200 width."
   ]
  },
  {
   "cell_type": "code",
   "execution_count": 2,
   "metadata": {},
   "outputs": [],
   "source": [
    "filename = \"example1.jpg\"\n",
    "size = 1200, 540\n",
    "file_parts = os.path.splitext(filename)\n",
    "\n",
    "outfile = file_parts[0] + '_250x250' + file_parts[1]\n",
    "try:\n",
    "    img = Image.open(filename)\n",
    "    img = img.resize(size, Image.ANTIALIAS)\n",
    "    img.save(outfile, 'PNG')\n",
    "except IOError as e:\n",
    "    print(\"An exception occured '%s'\" %e)\n",
    "image = cv2.imread(outfile)"
   ]
  },
  {
   "cell_type": "code",
   "execution_count": 3,
   "metadata": {},
   "outputs": [],
   "source": [
    "# Method Name: crop_images\n",
    "# Description: This function crops the images depinding on the coordinates given.\n",
    "def crop_images(x,h,y,w):\n",
    "    try:\n",
    "        image = cv2.imread(outfile)\n",
    "        crop_image = image[x:h, y:w]\n",
    "        cv2.imshow('Image', crop_image)\n",
    "        cv2.waitKey(0) \n",
    "        cv2.destroyAllWindows()\n",
    "        text = pytesseract.image_to_string(crop_image)\n",
    "        print(text)\n",
    "    except (Exception) as error:\n",
    "        text = \"-\"\n",
    "        print(\"error in crop_images\", error)\n",
    "    return text"
   ]
  },
  {
   "cell_type": "code",
   "execution_count": 4,
   "metadata": {},
   "outputs": [
    {
     "name": "stdout",
     "output_type": "stream",
     "text": [
      "    \n",
      "  \n",
      "     \n",
      "\n",
      " \n",
      "\n",
      "Plot No-4, Jawahar Nagar,\n",
      "Mumbal- 400062 :\n",
      "Maharashtra India =<Date\n",
      "IFSC : KKBK0000643 Say\n",
      "\n",
      "KotaksMatindra Bok\n",
      "\n",
      " \n",
      "\f",
      "\n",
      "['PlotNo-4,JawaharNagar,Mumbal-400062:MaharashtraIndia=<Date', ':KKBK0000643SayKotaksMatindraBok\\x0c']\n",
      "KKBK0000643\n"
     ]
    }
   ],
   "source": [
    "# Method Name: account_number\n",
    "# Description: This function gets thethe ifsc code as per given on the Kotak Mahindra check. It cleans the unecessary text and get\n",
    "#              only the required details.\n",
    "def ifsc_code(x,h,y,w):\n",
    "    try:\n",
    "        text = crop_images(x, h, y, w)\n",
    "        text = text.replace(\"\\n\", \"\")\n",
    "        text = text.replace(\" \", \"\") \n",
    "        substring1 = \"IFSC\"\n",
    "        substring2 = \"IFSCode\"\n",
    "        substring3 = \"IFSCode\"\n",
    "        if substring2 in text :      \n",
    "            text = text.split(\"IFSCode\")\n",
    "        if substring1 in text :\n",
    "            text = text.split(\"IFSC\")\n",
    "        if substring3 in text :\n",
    "            text = text.split(\"IFScode\")\n",
    "        print(text)\n",
    "        if type(text) == list:\n",
    "            for i in range(len(text)):\n",
    "                text[i] = text[i].upper()\n",
    "                text[i]= text[i].replace(\"\\n\", \" \")\n",
    "                text[i]= text[i].replace(\"\\x0c\", \"\")\n",
    "                text[i] = text[i].replace(\" \", \"\") \n",
    "            text = text[1][1:12]\n",
    "    except (Exception) as error:\n",
    "        text = \"-\"\n",
    "        print(\"error in ifsc_code\", error)\n",
    "    return text\n",
    "text = ifsc_code(0,200,0,900)\n",
    "text = str(text)\n",
    "print(text)"
   ]
  },
  {
   "cell_type": "markdown",
   "metadata": {},
   "source": [
    "### Here, we are using Razorpay IFSC Toolkit to fetch IFSC code. Razorpay IFSC Toolkit processes IFSC codes via their toolkit and return data set. \n",
    "- We could have extracted the the MICR number just as we extracted the bank name, address, ifsc code and account number, but there is a simplier way by calling the Razorpay API.\n",
    "- There is one more reason why we did not extract it from the image and that is because the it consists of a different font that  cannot be read by a python library. The only way that I could think of it was by using opencv(countors) library. It was tried using open cv library but it was only able to extract under very precise optimal conditions.\n",
    "- Hence we have used the Razorpay IFSC Toolkit  \n",
    "\n",
    "**Note** : The below API will only run for a real IFSC code. Else it will throw an error"
   ]
  },
  {
   "cell_type": "code",
   "execution_count": 5,
   "metadata": {},
   "outputs": [],
   "source": [
    "def get_bank_details(text):\n",
    "    try:\n",
    "        URL = \"https://ifsc.razorpay.com/\"\n",
    "        result = {}\n",
    "        result = requests.get(URL + text).json() \n",
    "        print(result)\n",
    "    except (Exception) as error:\n",
    "        text = \"-\"\n",
    "        print(\"error in get_bank_details\", error)\n",
    "    return result"
   ]
  },
  {
   "cell_type": "code",
   "execution_count": 6,
   "metadata": {},
   "outputs": [
    {
     "name": "stdout",
     "output_type": "stream",
     "text": [
      "{'UPI': True, 'SWIFT': '', 'CENTRE': 'MUMBAI', 'CITY': 'MUMBAI', 'DISTRICT': 'GREATER BOMBAY', 'BRANCH': 'GOREGAON', 'STATE': 'MAHARASHTRA', 'IMPS': True, 'CONTACT': '67587970', 'ADDRESS': 'KOTAK MAHINDRA BANK LTD. EVERSHINE ANGAN, GR FLOOR, PLOT NO 4, JAWAHAR NAGAR, GOREGAON WEST, MUMBAI 400062', 'RTGS': True, 'NEFT': True, 'MICR': '400485045', 'BANK': 'Kotak Mahindra Bank', 'BANKCODE': 'KKBK', 'IFSC': 'KKBK0000643'}\n"
     ]
    },
    {
     "data": {
      "text/plain": [
       "{'UPI': True,\n",
       " 'SWIFT': '',\n",
       " 'CENTRE': 'MUMBAI',\n",
       " 'CITY': 'MUMBAI',\n",
       " 'DISTRICT': 'GREATER BOMBAY',\n",
       " 'BRANCH': 'GOREGAON',\n",
       " 'STATE': 'MAHARASHTRA',\n",
       " 'IMPS': True,\n",
       " 'CONTACT': '67587970',\n",
       " 'ADDRESS': 'KOTAK MAHINDRA BANK LTD. EVERSHINE ANGAN, GR FLOOR, PLOT NO 4, JAWAHAR NAGAR, GOREGAON WEST, MUMBAI 400062',\n",
       " 'RTGS': True,\n",
       " 'NEFT': True,\n",
       " 'MICR': '400485045',\n",
       " 'BANK': 'Kotak Mahindra Bank',\n",
       " 'BANKCODE': 'KKBK',\n",
       " 'IFSC': 'KKBK0000643'}"
      ]
     },
     "execution_count": 6,
     "metadata": {},
     "output_type": "execute_result"
    }
   ],
   "source": [
    "get_bank_details(text)"
   ]
  },
  {
   "cell_type": "markdown",
   "metadata": {},
   "source": [
    "If the ifsc code was not found in teh above crop above it can be found in the below cropped image"
   ]
  },
  {
   "cell_type": "code",
   "execution_count": 7,
   "metadata": {},
   "outputs": [
    {
     "name": "stdout",
     "output_type": "stream",
     "text": [
      "8\n",
      "g\n",
      "&\n",
      "\n",
      "ces\n",
      "\n",
      "2 SESS SSS EERO a ee\n",
      "\n",
      " \n",
      "\f",
      "\n",
      "8g&ces2SESSSSSEEROaee\f",
      "\n"
     ]
    }
   ],
   "source": [
    "text = ifsc_code(200,400,0,1000)"
   ]
  },
  {
   "cell_type": "code",
   "execution_count": 8,
   "metadata": {},
   "outputs": [
    {
     "name": "stdout",
     "output_type": "stream",
     "text": [
      "c000001c 40048504502 011825c 31\n",
      "\f",
      "\n"
     ]
    }
   ],
   "source": [
    "import cv2\n",
    "import numpy as np\n",
    "import pytesseract\n",
    "\n",
    "pytesseract.pytesseract.tesseract_cmd = r\"C:\\Program Files\\Tesseract-OCR\\tesseract.exe\"\n",
    "def micr_number(outfile):\n",
    "    # Load image, convert to HSV format, define lower/upper ranges, and perform\n",
    "    # color segmentation to create a binary mask\n",
    "    image = cv2.imread(outfile)\n",
    "    hsv = cv2.cvtColor(image, cv2.COLOR_BGR2HSV)\n",
    "    lower = np.array([0, 0, 0])\n",
    "    upper = np.array([160, 160, 160])\n",
    "    mask = cv2.inRange(hsv, lower, upper)\n",
    "\n",
    "    # Create horizontal kernel and dilate to connect text characters\n",
    "    kernel = cv2.getStructuringElement(cv2.MORPH_RECT, (5,5))\n",
    "    dilate = cv2.dilate(mask, kernel, iterations=7)\n",
    "\n",
    "    # Find contours and filter using aspect ratio\n",
    "    # Remove non-text contours by filling in the contour\n",
    "    cnts = cv2.findContours(dilate, cv2.RETR_EXTERNAL, cv2.CHAIN_APPROX_SIMPLE)\n",
    "    cnts = cnts[0] if len(cnts) == 2 else cnts[1]\n",
    "    for c in cnts:\n",
    "        x,y,w,h = cv2.boundingRect(c)\n",
    "        ar = w / float(h)\n",
    "        if ar < 5:\n",
    "            cv2.drawContours(dilate, [c], -1, (0,0,0), -1)\n",
    "\n",
    "    # Bitwise dilated image with mask, invert, then OCR\n",
    "    result = 255 - cv2.bitwise_and(dilate, mask)\n",
    "    data = pytesseract.image_to_string(result, lang='mcr',config='--psm 6')\n",
    "    print(data)\n",
    "    cv2.imshow('mask', mask)\n",
    "    cv2.imshow('dilate', dilate)\n",
    "    cv2.imshow('result', result)\n",
    "    cv2.waitKey(0)\n",
    "    cv2.destroyAllWindows()\n",
    "    return data\n",
    "text  = micr_number (outfile)\n",
    "text1 = text"
   ]
  },
  {
   "cell_type": "code",
   "execution_count": 9,
   "metadata": {},
   "outputs": [
    {
     "name": "stdout",
     "output_type": "stream",
     "text": [
      "c000001c40048504502011825c31\n",
      "\f",
      "\n"
     ]
    }
   ],
   "source": [
    "text = text.replace(\" \", \"\") \n",
    "text = str(text)\n",
    "print(text)\n",
    "# text = text[-2]\n",
    "# rbi_number = text[-8:-2]\n",
    "# micr_number = str(text[-17:-8])\n",
    "# print(routing_number)\n",
    "# print(text)\n",
    "# print(rbi_number)\n",
    "# print(micr_number)"
   ]
  },
  {
   "cell_type": "code",
   "execution_count": 10,
   "metadata": {},
   "outputs": [
    {
     "name": "stdout",
     "output_type": "stream",
     "text": [
      "c000001c\n"
     ]
    }
   ],
   "source": [
    "check_number = text[0:8]\n",
    "print(check_number)"
   ]
  },
  {
   "cell_type": "code",
   "execution_count": 11,
   "metadata": {},
   "outputs": [
    {
     "name": "stdout",
     "output_type": "stream",
     "text": [
      "40048504502\n"
     ]
    }
   ],
   "source": [
    "micr_number = text[8:19]\n",
    "print(micr_number)"
   ]
  },
  {
   "cell_type": "code",
   "execution_count": 12,
   "metadata": {},
   "outputs": [
    {
     "name": "stdout",
     "output_type": "stream",
     "text": [
      "011825c\n"
     ]
    }
   ],
   "source": [
    "rbi_number = text[19:26]\n",
    "print(rbi_number)"
   ]
  },
  {
   "cell_type": "code",
   "execution_count": 13,
   "metadata": {},
   "outputs": [
    {
     "name": "stdout",
     "output_type": "stream",
     "text": [
      "31\n"
     ]
    }
   ],
   "source": [
    "routing_number = text[26:28]\n",
    "print(routing_number)"
   ]
  },
  {
   "cell_type": "code",
   "execution_count": 14,
   "metadata": {},
   "outputs": [],
   "source": [
    "text1= text1.replace(\"\\n\", \" \")\n",
    "text1= text1.replace(\"\\x0c\", \"\")\n",
    "text1 = text1.split(\" \")"
   ]
  },
  {
   "cell_type": "code",
   "execution_count": 15,
   "metadata": {},
   "outputs": [
    {
     "data": {
      "text/plain": [
       "['c000001c', '40048504502', '011825c', '31', '']"
      ]
     },
     "execution_count": 15,
     "metadata": {},
     "output_type": "execute_result"
    }
   ],
   "source": [
    "text1"
   ]
  },
  {
   "cell_type": "code",
   "execution_count": null,
   "metadata": {},
   "outputs": [],
   "source": []
  }
 ],
 "metadata": {
  "kernelspec": {
   "display_name": "Python 3",
   "language": "python",
   "name": "python3"
  },
  "language_info": {
   "codemirror_mode": {
    "name": "ipython",
    "version": 3
   },
   "file_extension": ".py",
   "mimetype": "text/x-python",
   "name": "python",
   "nbconvert_exporter": "python",
   "pygments_lexer": "ipython3",
   "version": "3.8.5"
  }
 },
 "nbformat": 4,
 "nbformat_minor": 4
}
