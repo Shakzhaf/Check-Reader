{
 "cells": [
  {
   "cell_type": "markdown",
   "metadata": {},
   "source": [
    "### Import all the important libraries that are to be used.\n",
    "**Note**: One of the images is a bank check of mine (Shakhaf). Kindly only use it only for evaluation! Thanks"
   ]
  },
  {
   "cell_type": "code",
   "execution_count": 1,
   "metadata": {},
   "outputs": [],
   "source": [
    "# Author: Shakhaf\n",
    "# Date: 28/01/2021\n",
    "import numpy as np\n",
    "import re\n",
    "import cv2\n",
    "import pytesseract\n",
    "import os \n",
    "import requests\n",
    "from difflib import SequenceMatcher\n",
    "from PIL import Image\n",
    "pytesseract.pytesseract.tesseract_cmd = 'C:\\\\Program Files\\\\Tesseract-OCR\\\\tesseract.exe'\n",
    "# image = cv2.imread(\"checkscan_250x250.jpg\")"
   ]
  },
  {
   "cell_type": "markdown",
   "metadata": {},
   "source": [
    "### This converts the original image into image of 540 height and 1200 width."
   ]
  },
  {
   "cell_type": "code",
   "execution_count": 98,
   "metadata": {},
   "outputs": [],
   "source": [
    "filename = \"example3.jpg\"\n",
    "size = 1200, 540\n",
    "file_parts = os.path.splitext(filename)\n",
    "\n",
    "outfile = file_parts[0] + '_250x250' + file_parts[1]\n",
    "try:\n",
    "    img = Image.open(filename)\n",
    "    img = img.resize(size, Image.ANTIALIAS)\n",
    "    img.save(outfile, 'PNG')\n",
    "except IOError as e:\n",
    "    print(\"An exception occured '%s'\" %e)\n",
    "image = cv2.imread(outfile)"
   ]
  },
  {
   "cell_type": "code",
   "execution_count": 99,
   "metadata": {},
   "outputs": [],
   "source": [
    "# Method Name: crop_images\n",
    "# Description: This function crops the images depinding on the coordinates given.\n",
    "def crop_images(x,h,y,w):\n",
    "    image = cv2.imread(outfile)\n",
    "    crop_image = image[x:h, y:w]\n",
    "    cv2.imshow('Image', crop_image)\n",
    "    cv2.waitKey(0) \n",
    "    cv2.destroyAllWindows()\n",
    "    text = pytesseract.image_to_string(crop_image)\n",
    "    print(text)\n",
    "    return text"
   ]
  },
  {
   "cell_type": "code",
   "execution_count": 101,
   "metadata": {},
   "outputs": [
    {
     "name": "stdout",
     "output_type": "stream",
     "text": [
      " \n",
      "\n",
      " \n",
      "\f",
      "\n",
      "this id the bank name State Bank of India\n",
      "this id the bank name Bank of Baroda\n",
      "this id the bank name Bank of India\n",
      "None\n"
     ]
    }
   ],
   "source": [
    "# Method Name: bank_name\n",
    "# Description: This function gets the bank name as per given on the Kotak Mahindra check. It cleans the unecessary text and get\n",
    "#              only the required details.\n",
    "def bank_name():\n",
    "#     try:\n",
    "    text = crop_images(50, 150, 0, 405)\n",
    "    #         print(text)\n",
    "    list_of_all_banks = [\"State Bank of India\", \"Punjab National Bank\", \"Union Bank of India\", \n",
    "                    \"Canara Bank\", \"Bank of Baroda\", \"Bank of India\", \"Central Bank of India\", \n",
    "                    \"Indian Bank\", \"Indian Overseas Bank\", \"ICICI Bank\", \"HDFC Bank, Axis Bank\", \n",
    "                    \"IDBI Bank\", \"Yes Bank\", \"Kotak Mahindra Bank\", \"IndusInd Bank\", \n",
    "                    \"Federal Bank\", \"IDFC First Bank\", \"Jammu and Kashmir Bank\"]\n",
    "    similarity_index = 0 \n",
    "    for i in range(len(list_of_all_banks)):\n",
    "        current_similarity_index = SequenceMatcher(None,text,list_of_all_banks[i]).ratio()\n",
    "        if similarity_index < current_similarity_index:\n",
    "            similarity_index  = current_similarity_index\n",
    "            bank_name = list_of_all_banks[i]\n",
    "            print(\"this id the bank name\", bank_name)\n",
    "#     except (Exception) as error:\n",
    "#         bank_name = \"-\"\n",
    "#         print(\"error in bank_name\", error)\n",
    "#     return bank_name\n",
    "bank_name  = bank_name()\n",
    "print(bank_name)"
   ]
  },
  {
   "cell_type": "code",
   "execution_count": 102,
   "metadata": {},
   "outputs": [
    {
     "name": "stdout",
     "output_type": "stream",
     "text": [
      " \n",
      "\f",
      "\n",
      "error in bank_name list index out of range\n",
      "['-', '-']\n"
     ]
    }
   ],
   "source": [
    "# Method Name: address_and_ifsc\n",
    "# Description: This function gets the address and the ifsc code as per given on the Kotak Mahindra check. It cleans the unecessary text and get\n",
    "#              only the required details.\n",
    "def address_and_ifsc():\n",
    "    try:\n",
    "        text = crop_images(0,100, 350,900) #0:100, 350:700\n",
    "        text=re.sub(\"IFSC\",\"\",text)\n",
    "        text = text.split(\":\")\n",
    "        text[1] = text[1].upper()\n",
    "#         text[1] = text[1].replace(\" \", \"\") \n",
    "        for i in range(len(text)):\n",
    "            text[i]= text[i].replace(\"\\n\", \" \")\n",
    "            text[i]= text[i].replace(\"\\x0c\", \"\")\n",
    "#         print(text)\n",
    "        text[1] = text[1].replace(\" \", \"\") \n",
    "    except (Exception) as error:\n",
    "        text = [\"-\",\"-\"]\n",
    "        print(\"error in bank_name\", error)\n",
    "    return text\n",
    "address_and_ifsc  = address_and_ifsc()\n",
    "print(address_and_ifsc)"
   ]
  },
  {
   "cell_type": "code",
   "execution_count": 103,
   "metadata": {},
   "outputs": [
    {
     "name": "stdout",
     "output_type": "stream",
     "text": [
      " \n",
      "\n",
      "1a 0131053272500\n",
      "\f",
      "\n",
      "10131053272500\n"
     ]
    }
   ],
   "source": [
    "# Method Name: account_number\n",
    "# Description: This function gets account_number as per given on the Kotak Mahindra check. It cleans the unecessary text and get\n",
    "#              only the required details.\n",
    "def account_number():\n",
    "    try:\n",
    "        text = crop_images(240,300, 80, 450) #240:300, 80:450\n",
    "        text = re.sub('\\D',\"\",text)\n",
    "#         print(text)\n",
    "    except (Exception) as error:\n",
    "        text = \"-\"\n",
    "        print(\"error in account_number\", error)\n",
    "    return text\n",
    "account_number  = account_number()\n",
    "print(account_number)"
   ]
  },
  {
   "cell_type": "code",
   "execution_count": 104,
   "metadata": {},
   "outputs": [
    {
     "ename": "NameError",
     "evalue": "name 'string' is not defined",
     "output_type": "error",
     "traceback": [
      "\u001b[1;31m---------------------------------------------------------------------------\u001b[0m",
      "\u001b[1;31mNameError\u001b[0m                                 Traceback (most recent call last)",
      "\u001b[1;32m<ipython-input-104-a567c6436800>\u001b[0m in \u001b[0;36m<module>\u001b[1;34m\u001b[0m\n\u001b[1;32m----> 1\u001b[1;33m \u001b[1;32mif\u001b[0m \u001b[0mlen\u001b[0m\u001b[1;33m(\u001b[0m\u001b[0mstring\u001b[0m\u001b[1;33m)\u001b[0m \u001b[1;33m>\u001b[0m \u001b[1;36m0\u001b[0m\u001b[1;33m:\u001b[0m\u001b[1;33m\u001b[0m\u001b[1;33m\u001b[0m\u001b[0m\n\u001b[0m\u001b[0;32m      2\u001b[0m     \u001b[0mifsc_code\u001b[0m \u001b[1;33m=\u001b[0m \u001b[0mstring\u001b[0m\u001b[1;33m\u001b[0m\u001b[1;33m\u001b[0m\u001b[0m\n\u001b[0;32m      3\u001b[0m \u001b[1;32melse\u001b[0m\u001b[1;33m:\u001b[0m\u001b[1;33m\u001b[0m\u001b[1;33m\u001b[0m\u001b[0m\n\u001b[0;32m      4\u001b[0m     \u001b[0mifsc_code\u001b[0m \u001b[1;33m=\u001b[0m \u001b[0maddress_and_ifsc\u001b[0m\u001b[1;33m[\u001b[0m\u001b[1;36m1\u001b[0m\u001b[1;33m]\u001b[0m\u001b[1;33m\u001b[0m\u001b[1;33m\u001b[0m\u001b[0m\n",
      "\u001b[1;31mNameError\u001b[0m: name 'string' is not defined"
     ]
    }
   ],
   "source": [
    "if len(string) > 0:\n",
    "    ifsc_code = string\n",
    "else:\n",
    "    ifsc_code = address_and_ifsc[1]"
   ]
  },
  {
   "cell_type": "markdown",
   "metadata": {},
   "source": [
    "### Here, we are using Razorpay IFSC Toolkit to fetch IFSC code. Razorpay IFSC Toolkit processes IFSC codes via their toolkit and return data set. \n",
    "- We could have extracted the the MICR number just as we extracted the bank name, address, ifsc code and account number, but there is a simplier way by calling the Razorpay API.\n",
    "- There is one more reason why we did not extract it from the image and that is because the it consists of a different font that  cannot be read by a python library. The only way that I could think of it was by using opencv(countors) library. It was tried using open cv library but it was only able to extract under very precise optimal conditions.\n",
    "- Hence we have used the Razorpay IFSC Toolkit  \n",
    "\n",
    "**Note** : The below API will only run for a real IFSC code. Else it will throw an error"
   ]
  },
  {
   "cell_type": "code",
   "execution_count": 105,
   "metadata": {},
   "outputs": [
    {
     "ename": "NameError",
     "evalue": "name 'ifsc_code' is not defined",
     "output_type": "error",
     "traceback": [
      "\u001b[1;31m---------------------------------------------------------------------------\u001b[0m",
      "\u001b[1;31mNameError\u001b[0m                                 Traceback (most recent call last)",
      "\u001b[1;32m<ipython-input-105-303c386cd688>\u001b[0m in \u001b[0;36m<module>\u001b[1;34m\u001b[0m\n\u001b[0;32m      1\u001b[0m \u001b[0mURL\u001b[0m \u001b[1;33m=\u001b[0m \u001b[1;34m\"https://ifsc.razorpay.com/\"\u001b[0m\u001b[1;33m\u001b[0m\u001b[1;33m\u001b[0m\u001b[0m\n\u001b[0;32m      2\u001b[0m \u001b[0mresult\u001b[0m \u001b[1;33m=\u001b[0m \u001b[1;33m{\u001b[0m\u001b[1;33m}\u001b[0m\u001b[1;33m\u001b[0m\u001b[1;33m\u001b[0m\u001b[0m\n\u001b[1;32m----> 3\u001b[1;33m \u001b[0mresult\u001b[0m \u001b[1;33m=\u001b[0m \u001b[0mrequests\u001b[0m\u001b[1;33m.\u001b[0m\u001b[0mget\u001b[0m\u001b[1;33m(\u001b[0m\u001b[0mURL\u001b[0m \u001b[1;33m+\u001b[0m \u001b[0mifsc_code\u001b[0m\u001b[1;33m)\u001b[0m\u001b[1;33m.\u001b[0m\u001b[0mjson\u001b[0m\u001b[1;33m(\u001b[0m\u001b[1;33m)\u001b[0m\u001b[1;33m\u001b[0m\u001b[1;33m\u001b[0m\u001b[0m\n\u001b[0m\u001b[0;32m      4\u001b[0m \u001b[0mresult\u001b[0m\u001b[1;33m[\u001b[0m\u001b[1;34m\"ACCOUNT NUMBER\"\u001b[0m\u001b[1;33m]\u001b[0m \u001b[1;33m=\u001b[0m \u001b[0maccount_number\u001b[0m\u001b[1;33m\u001b[0m\u001b[1;33m\u001b[0m\u001b[0m\n\u001b[0;32m      5\u001b[0m \u001b[0mresult\u001b[0m\u001b[1;33m[\u001b[0m\u001b[1;34m\"BANK NUMBER\"\u001b[0m\u001b[1;33m]\u001b[0m \u001b[1;33m=\u001b[0m \u001b[0mbank_name\u001b[0m\u001b[1;33m\u001b[0m\u001b[1;33m\u001b[0m\u001b[0m\n",
      "\u001b[1;31mNameError\u001b[0m: name 'ifsc_code' is not defined"
     ]
    }
   ],
   "source": [
    "URL = \"https://ifsc.razorpay.com/\"\n",
    "result = {}\n",
    "result = requests.get(URL + ifsc_code).json() \n",
    "result[\"ACCOUNT NUMBER\"] = account_number\n",
    "result[\"BANK NUMBER\"] = bank_name\n",
    "result[\"BANK ADDRESS\"] = address_and_ifsc[0]\n",
    "print(result)"
   ]
  },
  {
   "cell_type": "code",
   "execution_count": 97,
   "metadata": {},
   "outputs": [
    {
     "name": "stdout",
     "output_type": "stream",
     "text": [
      "8000000182 40048504506 011825d 31\n",
      "\f",
      "\n"
     ]
    }
   ],
   "source": [
    "import cv2\n",
    "import numpy as np\n",
    "import pytesseract\n",
    "\n",
    "pytesseract.pytesseract.tesseract_cmd = r\"C:\\Program Files\\Tesseract-OCR\\tesseract.exe\"\n",
    "def micr_number(outfile):\n",
    "    # Load image, convert to HSV format, define lower/upper ranges, and perform\n",
    "    # color segmentation to create a binary mask\n",
    "    image = cv2.imread(outfile)\n",
    "    hsv = cv2.cvtColor(image, cv2.COLOR_BGR2HSV)\n",
    "    lower = np.array([0, 0, 0])\n",
    "    upper = np.array([110, 110, 110])\n",
    "    mask = cv2.inRange(hsv, lower, upper)\n",
    "\n",
    "    # Create horizontal kernel and dilate to connect text characters\n",
    "    kernel = cv2.getStructuringElement(cv2.MORPH_RECT, (7,7))\n",
    "    dilate = cv2.dilate(mask, kernel, iterations=5)\n",
    "\n",
    "    # Find contours and filter using aspect ratio\n",
    "    # Remove non-text contours by filling in the contour\n",
    "    cnts = cv2.findContours(dilate, cv2.RETR_EXTERNAL, cv2.CHAIN_APPROX_SIMPLE)\n",
    "    cnts = cnts[0] if len(cnts) == 2 else cnts[1]\n",
    "    for c in cnts:\n",
    "        x,y,w,h = cv2.boundingRect(c)\n",
    "        ar = w / float(h)\n",
    "        if ar < 5:\n",
    "            cv2.drawContours(dilate, [c], -1, (0,0,0), -1)\n",
    "\n",
    "    # Bitwise dilated image with mask, invert, then OCR\n",
    "    result = 255 - cv2.bitwise_and(dilate, mask)\n",
    "    data = pytesseract.image_to_string(result, lang='mcr',config='--psm 6')\n",
    "    print(data)\n",
    "    cv2.imshow('mask', mask)\n",
    "    cv2.imshow('dilate', dilate)\n",
    "    cv2.imshow('result', result)\n",
    "    cv2.waitKey(0)\n",
    "    cv2.destroyAllWindows()\n",
    "    return data\n",
    "text  = micr_number (outfile)"
   ]
  },
  {
   "cell_type": "code",
   "execution_count": 22,
   "metadata": {},
   "outputs": [
    {
     "name": "stdout",
     "output_type": "stream",
     "text": [
      "9\n",
      "9\n",
      "\n",
      "\n"
     ]
    }
   ],
   "source": [
    "text = text.replace(\"\", \"\") \n",
    "text = re.sub('\\D',\"\",text)\n",
    "routing_number = text[-2:]\n",
    "# text = text[-2]\n",
    "rbi_number = text[-8:-2]\n",
    "micr_number = str(text[-17:-8])\n",
    "print(routing_number)\n",
    "print(text)\n",
    "print(rbi_number)\n",
    "print(micr_number)"
   ]
  },
  {
   "cell_type": "code",
   "execution_count": 7,
   "metadata": {},
   "outputs": [
    {
     "name": "stdout",
     "output_type": "stream",
     "text": [
      "Not Found\n"
     ]
    }
   ],
   "source": [
    "URL = \"https://ifsc.razorpay.com/\"\n",
    "result = {}\n",
    "result = requests.get(URL + micr_number).json() \n",
    "# result[\"ACCOUNT NUMBER\"] = account_number\n",
    "# result[\"BANK NUMBER\"] = bank_name\n",
    "# result[\"BANK ADDRESS\"] = address_and_ifsc[0]\n",
    "print(result)"
   ]
  },
  {
   "cell_type": "code",
   "execution_count": 90,
   "metadata": {},
   "outputs": [
    {
     "name": "stdout",
     "output_type": "stream",
     "text": [
      "Ep Kotak\n",
      "Kotak Mahindra Bonk\n",
      "\n",
      " \n",
      "\n",
      "Evershine Aangan, Plot No-4, Jawahar Nagar,\n",
      "Mumbat - 400062\n",
      "\n",
      "Maharashtra India\n",
      "\n",
      "WSC: KkBK0000643\n",
      "\n",
      "Date\n",
      "\n",
      " \n",
      "\n",
      "Valid for three months from date of\n",
      "\n",
      " \n",
      "\n",
      " \n",
      "\n",
      " \n",
      "\n",
      " \n",
      "\n",
      " \n",
      "\n",
      " \n",
      "\n",
      " \n",
      "\n",
      " \n",
      "\n",
      " \n",
      "\n",
      " \n",
      "\n",
      "O DMM Y¥.¥ ¥o¥\n",
      "\n",
      "UL UR® #1 _Or Bearer\n",
      "\n",
      " \n",
      "\n",
      " \n",
      "\n",
      "eB RAER TERI SIT\n",
      "\f",
      "\n",
      "['Ep KotakKotak Mahindra Bonk Evershine Aangan, Plot No-4, Jawahar Nagar,Mumbat - 400062Maharashtra IndiaWSC', ' KkBK0000643Date Valid for three months from date of          O DMM Y¥.¥ ¥o¥UL UR® #1 _Or Bearer  eB RAER TERI SIT\\x0c']\n",
      "KKBK0000643\n"
     ]
    }
   ],
   "source": [
    "# Method Name: account_number\n",
    "# Description: This function gets account_number as per given on the Kotak Mahindra check. It cleans the unecessary text and get\n",
    "#              only the required details.\n",
    "text = crop_images(0, 200, 0, 1200) #240:300, 80:450\n",
    "# text = re.sub('\\D',\"\",text)\n",
    "text = text.replace(\"\\n\", \"\")\n",
    "text = text.split(\":\")\n",
    "print(text)\n",
    "for i in range(len(text)):\n",
    "    text[i] = text[i].upper()\n",
    "    text[i]= text[i].replace(\"\\n\", \" \")\n",
    "    text[i]= text[i].replace(\"\\x0c\", \"\")\n",
    "    text[i] = text[i].replace(\" \", \"\") \n",
    "#     text[1] = text[1].replace(\"\", \" \") \n",
    "# text[1] = text[1].replace(\" \", \"\") \n",
    "print(text[1][0:11])"
   ]
  },
  {
   "cell_type": "code",
   "execution_count": 80,
   "metadata": {},
   "outputs": [
    {
     "name": "stdout",
     "output_type": "stream",
     "text": [
      "128\n"
     ]
    }
   ],
   "source": [
    "import pytesseract\n",
    "from pytesseract import Output\n",
    "import cv2\n",
    "image = cv2.imread(outfile)\n",
    "image = image[0:240, 0:1200]\n",
    "d = pytesseract.image_to_data(image, output_type=Output.DICT, lang='eng')\n",
    "n_boxes = len(d['level'])\n",
    "print(n_boxes)"
   ]
  },
  {
   "cell_type": "code",
   "execution_count": 51,
   "metadata": {},
   "outputs": [],
   "source": [
    "overlay = image.copy()\n",
    "for i in range(n_boxes):\n",
    "    text = d['text'][i]\n",
    "    if text == 'IFSC' or text == 'IFSC Code':\n",
    "        (x, y, w, h) = (d['left'][i], d['top'][i], d['width'][i], d['height'][i])\n",
    "        (x1, y1, w1, h1) = (d['left'][i + 1], d['top'][i + 1], d['width'][i + 1], d['height'][i + 1])\n",
    "        (x2, y2, w2, h2) = (d['left'][i + 2], d['top'][i + 2], d['width'][i + 2], d['height'][i + 2])\n",
    "        # cv2.rectangle(img, (x, y), (x1 + w1, y1 + h1), (0, 255, 0), 2)\n",
    "        cv2.rectangle(overlay, (x, y), (x1 + w1, y1 + h1), (255, 0, 0), -1)\n",
    "        # cv2.rectangle(img, (x2, y2), (x2 + w2, y2 + h2), (0, 255, 0), 2)\n",
    "        cv2.rectangle(overlay, (x2, y2), (x2 + w2, y2 + h2), (0, 0, 255), -1)\n",
    "        print(text)"
   ]
  },
  {
   "cell_type": "code",
   "execution_count": 52,
   "metadata": {},
   "outputs": [],
   "source": [
    "alpha = 0.4  # Transparency factor.\n",
    "# Following line overlays transparent rectangle over the image\n",
    "img_new = cv2.addWeighted(overlay, alpha, image, 1 - alpha, 0)"
   ]
  },
  {
   "cell_type": "code",
   "execution_count": 53,
   "metadata": {},
   "outputs": [],
   "source": [
    "r = 1000.0 / img_new.shape[1]  # resizing image without loosing aspect ratio\n",
    "dim = (1000, int(img_new.shape[0] * r))\n",
    "# perform the actual resizing of the image and show it\n",
    "resized = cv2.resize(img_new, dim, interpolation=cv2.INTER_AREA)\n",
    "cv2.imshow('img', resized)\n",
    "cv2.waitKey(0)\n",
    "cv2.destroyAllWindows()"
   ]
  },
  {
   "cell_type": "code",
   "execution_count": null,
   "metadata": {},
   "outputs": [],
   "source": []
  }
 ],
 "metadata": {
  "kernelspec": {
   "display_name": "Python 3",
   "language": "python",
   "name": "python3"
  },
  "language_info": {
   "codemirror_mode": {
    "name": "ipython",
    "version": 3
   },
   "file_extension": ".py",
   "mimetype": "text/x-python",
   "name": "python",
   "nbconvert_exporter": "python",
   "pygments_lexer": "ipython3",
   "version": "3.8.5"
  }
 },
 "nbformat": 4,
 "nbformat_minor": 4
}
